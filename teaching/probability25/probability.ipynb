{
 "cells": [
  {
   "cell_type": "markdown",
   "metadata": {
    "id": "fSg0qH0M4dwT"
   },
   "source": [
    "# **Эксперименты**"
   ]
  },
  {
   "cell_type": "markdown",
   "metadata": {
    "id": "y_aQJGGabZIF"
   },
   "source": [
    "Как быть уверенным, что жребий выпал правильно? По-видимому, самый простой способ - это бросить жребий много раз, а затем проверить, все ли результаты выпали примерно одинаковое количество раз. Аналогичная логика применима ко многим случайным явлениям в реальной жизни. В этом разделе мы узнаем, как анализировать такие явления, используя большой набор их результатов. А чтобы самим не \"бросать кубик\" по многу раз, мы будем использовать базовый Python и модуль `random`.\n",
    "\n",
    "###**Случайные эксперименты**\n",
    "В теории вероятностей случайный эксперимент - это процедура, имеющая следующие особенности:\n",
    "\n",
    "1.   Ее можно повторять бесконечное количество раз при одних и тех же условиях.\n",
    "2.   Результат этой процедуры невозможно предсказать заранее.\n",
    "\n",
    "Повторения одного и того же эксперимента при одних и тех же условиях называются испытаниями. Итак, когда мы подбрасываем монету четыре раза, мы можем интерпретировать это как один эксперимент \"подбросьте монету четыре раза\" или как четыре эксперимента \"подбросьте монету\".\n",
    "\n",
    "> Случайный эксперимент - это математическая модель. Ни одно явление в реальной жизни не может быть по-настоящему случайным экспериментом просто потому, что ничто не может повторяться бесконечное число раз.\n",
    "\n",
    "Чем больше раз мы бросим кубик, тем точнее сможем определить, насколько близки доли всех исходов друг к другу. Однако, чтобы доказать, что эти доли в точности равны, нам нужно будет бросать кубик бесконечное количество раз. Вот почему возможность проводить бесконечное количество испытаний имеет решающее значение."
   ]
  },
  {
   "cell_type": "markdown",
   "metadata": {
    "id": "cDNHHKbjipYg"
   },
   "source": [
    "### **Случайные эксперименты в Python**\n",
    "\n",
    "Существует множество способов проведения случайных экспериментов в Python. В этом разделе мы будем использовать модуль `random`. Например, чтобы получить случайный элемент из заданного списка a, вы можете выполнить следующий код:"
   ]
  },
  {
   "cell_type": "code",
   "execution_count": null,
   "metadata": {
    "colab": {
     "base_uri": "https://localhost:8080/",
     "height": 35
    },
    "id": "t0TNZh-rbkDd",
    "outputId": "fba809b9-54e0-44e3-cad4-2d020104df53"
   },
   "outputs": [
    {
     "data": {
      "application/vnd.google.colaboratory.intrinsic+json": {
       "type": "string"
      },
      "text/plain": [
       "'Head'"
      ]
     },
     "execution_count": 1,
     "metadata": {},
     "output_type": "execute_result"
    }
   ],
   "source": [
    "import random\n",
    "\n",
    "a = ['Head', 'Tail']\n",
    "random.choice(a)"
   ]
  },
  {
   "cell_type": "markdown",
   "metadata": {
    "id": "mlsMybI0vtua"
   },
   "source": [
    "Чтобы провести этот эксперимент `k` раз, нужно выполнить соответствующую функцию `k` раз:"
   ]
  },
  {
   "cell_type": "code",
   "execution_count": null,
   "metadata": {
    "colab": {
     "base_uri": "https://localhost:8080/"
    },
    "id": "ZUtjJ9F2voW-",
    "outputId": "6a61c7fa-a0c8-41b5-cdf0-a44c5592cff6"
   },
   "outputs": [
    {
     "data": {
      "text/plain": [
       "['Head', 'Tail', 'Head', 'Tail', 'Tail', 'Head']"
      ]
     },
     "execution_count": 3,
     "metadata": {},
     "output_type": "execute_result"
    }
   ],
   "source": [
    "a = ['Head', 'Tail']\n",
    "k = 6\n",
    "[random.choice(a) for i in range(k)]"
   ]
  },
  {
   "cell_type": "markdown",
   "metadata": {
    "id": "Q2Hwn6pt30JU"
   },
   "source": [
    "Также можно использовать метод `random.choices`, который принимает `k` в качестве параметра:"
   ]
  },
  {
   "cell_type": "code",
   "execution_count": null,
   "metadata": {
    "colab": {
     "base_uri": "https://localhost:8080/"
    },
    "id": "1j4J3S3d33o9",
    "outputId": "508aee4c-a8aa-476a-d162-817afed86dd0"
   },
   "outputs": [
    {
     "data": {
      "text/plain": [
       "['Head', 'Tail', 'Tail', 'Tail', 'Tail', 'Head']"
      ]
     },
     "execution_count": 4,
     "metadata": {},
     "output_type": "execute_result"
    }
   ],
   "source": [
    "random.choices(a, k=6)"
   ]
  },
  {
   "cell_type": "markdown",
   "metadata": {
    "id": "9gDs0h-U4O8Z"
   },
   "source": [
    "Если вы хотите выбрать случайное целое число из `range(a, b, step)`, вы можете использовать `random.randrange(a, b, step)` вместо `random.choice(range(a, b, step))`:"
   ]
  },
  {
   "cell_type": "code",
   "execution_count": null,
   "metadata": {
    "colab": {
     "base_uri": "https://localhost:8080/"
    },
    "id": "2hGlf3oI4Pwp",
    "outputId": "b5618ebb-a758-4da2-9dd8-002990c7eda0"
   },
   "outputs": [
    {
     "data": {
      "text/plain": [
       "[2, 5, 5, 1, 2]"
      ]
     },
     "execution_count": 5,
     "metadata": {},
     "output_type": "execute_result"
    }
   ],
   "source": [
    "def dice_roll():\n",
    "    return random.randrange(1, 7)\n",
    "\n",
    "[dice_roll() for i in range(5)] # let's roll the dice 5 times"
   ]
  },
  {
   "cell_type": "markdown",
   "metadata": {
    "id": "zpctBNnQBVIi"
   },
   "source": [
    "### **Более сложные эксперименты**\n",
    "\n",
    "Используя базовые эксперименты, мы можем проводить сложные эксперименты. Например, эксперимент, в котором мы подбрасываем монетку, пока не появится второй орел, можно провести следующим образом:"
   ]
  },
  {
   "cell_type": "code",
   "execution_count": null,
   "metadata": {
    "colab": {
     "base_uri": "https://localhost:8080/"
    },
    "id": "EK7ZQpcwCBdG",
    "outputId": "d6c3b577-8066-4799-a2b5-65a48cd0430a"
   },
   "outputs": [
    {
     "name": "stdout",
     "output_type": "stream",
     "text": [
      "['T', 'H', 'T', 'H']\n",
      "['H', 'T', 'T', 'T', 'T', 'T', 'H']\n",
      "['H', 'H']\n",
      "['T', 'H', 'H']\n",
      "['T', 'H', 'T', 'H']\n",
      "['H', 'T', 'H']\n",
      "['T', 'H', 'T', 'H']\n",
      "['H', 'T', 'H']\n",
      "['T', 'H', 'T', 'T', 'T', 'T', 'T', 'T', 'H']\n",
      "['T', 'H', 'T', 'T', 'T', 'T', 'T', 'T', 'T', 'H']\n"
     ]
    }
   ],
   "source": [
    "def coin_flip():\n",
    "    return random.choice(['H', 'T'])\n",
    "\n",
    "def flip_until_second_head():\n",
    "    total_heads = 0\n",
    "    outcome = []\n",
    "    while total_heads < 2:\n",
    "        outcome.append(coin_flip())\n",
    "        if outcome[-1] == 'H':\n",
    "            total_heads += 1\n",
    "    return outcome\n",
    "\n",
    "# Let's conduct the experiment 10 times\n",
    "for i in range(10):\n",
    "    print(flip_until_second_head())"
   ]
  },
  {
   "cell_type": "markdown",
   "metadata": {
    "id": "XYo9t4j24TRv"
   },
   "source": [
    "# **События**"
   ]
  },
  {
   "cell_type": "markdown",
   "metadata": {
    "id": "iR4AV_u8wizt"
   },
   "source": [
    "Назовем событиями заявления о результатах эксперимента, истинность которых зависит только от результата. Например, если наш эксперимент состоит в том, чтобы \"выбрать случайный арбуз с полки в супермаркете\", то утверждения \"у арбуза 24 полоски\" и \"арбуз весит 10 кг\" являются событиями, в то время как \"арбуз весит 10 кг, и погода хорошая\" - нет.\n",
    "\n",
    "Если для данного исхода событие истинно, то мы можем сказать, что событие произошло. Например, если кубик выпал гранью 6, то произошли события \"выпало четное число\" и \"выпало число, большее трех\". Между тем события \"выпало нечетное число\" и \"выпало число меньше четырех\" не произошли.\n",
    "\n",
    "В Python будем представлять события как функции, которые принимают результат в качестве аргумента и возвращают значение `bool`. В приведенном ниже примере мы проводим одну пробную версию эксперимента `flip_until_second_head` из предыдущего раздела. Затем мы проверим, происходят ли события \"подбрасывание монеты более четырех раз\", \"первое подбрасывание монеты привело к выпадению орла\" и \"две решки были подброшены подряд\"."
   ]
  },
  {
   "cell_type": "code",
   "execution_count": null,
   "metadata": {
    "colab": {
     "base_uri": "https://localhost:8080/"
    },
    "id": "__3Ep312yO77",
    "outputId": "980b2297-deef-4e3c-ec0a-332592f0e845"
   },
   "outputs": [
    {
     "name": "stdout",
     "output_type": "stream",
     "text": [
      "Outcome: ['H', 'T', 'T', 'H']\n",
      "Flipped the coin more than four times: False\n",
      "The first coin flip resulted in heads: True\n",
      "Two tails were flipped in a row: True\n"
     ]
    }
   ],
   "source": [
    "def more_than_four_flips(outcome):\n",
    "    return len(outcome) > 4\n",
    "\n",
    "def first_is_head(outcome):\n",
    "    return outcome[0] == 'H'\n",
    "\n",
    "def two_tails_in_a_row(outcome):\n",
    "    for current, next in zip(outcome, outcome[1:]):\n",
    "        if current == 'T' and next == 'T':\n",
    "            return True\n",
    "    return False\n",
    "\n",
    "outcome = flip_until_second_head()\n",
    "\n",
    "print('Outcome:', outcome)\n",
    "print('Flipped the coin more than four times:', more_than_four_flips(outcome))\n",
    "print('The first coin flip resulted in heads:', first_is_head(outcome))\n",
    "print('Two tails were flipped in a row:', two_tails_in_a_row(outcome))"
   ]
  },
  {
   "cell_type": "code",
   "execution_count": null,
   "metadata": {
    "colab": {
     "base_uri": "https://localhost:8080/"
    },
    "id": "uSJqGnnlS9uS",
    "outputId": "e1d62353-00e1-47f1-a52b-d18584e69a4f"
   },
   "outputs": [
    {
     "data": {
      "text/plain": [
       "['H', 'T', 'T', 'H']"
      ]
     },
     "execution_count": 10,
     "metadata": {},
     "output_type": "execute_result"
    }
   ],
   "source": [
    "outcome"
   ]
  },
  {
   "cell_type": "code",
   "execution_count": null,
   "metadata": {
    "colab": {
     "base_uri": "https://localhost:8080/"
    },
    "id": "n12Ht6DVTJmB",
    "outputId": "898216ce-9516-46fc-ed47-de8380accf91"
   },
   "outputs": [
    {
     "data": {
      "text/plain": [
       "['T', 'T', 'H']"
      ]
     },
     "execution_count": 13,
     "metadata": {},
     "output_type": "execute_result"
    }
   ],
   "source": [
    "outcome[1:]"
   ]
  },
  {
   "cell_type": "code",
   "execution_count": null,
   "metadata": {
    "colab": {
     "base_uri": "https://localhost:8080/"
    },
    "id": "KRUEpYbwS6W2",
    "outputId": "9f4fe3ef-2541-4197-ada5-a1b3f7dec95d"
   },
   "outputs": [
    {
     "data": {
      "text/plain": [
       "[('H', 'T'), ('T', 'T'), ('T', 'H')]"
      ]
     },
     "execution_count": 12,
     "metadata": {},
     "output_type": "execute_result"
    }
   ],
   "source": [
    "list(zip(outcome, outcome[1:]))"
   ]
  },
  {
   "cell_type": "markdown",
   "metadata": {
    "id": "KoKHMbb3OG62"
   },
   "source": [
    "События описывают в формате \"да\"/\"нет\" свойства результата конкретного эксперимента. Однако в реальной жизни нас обычно интересуют результаты явлений, которые еще не произошли. Принимая решение о покупке лотерейного билета, мы не знаем, каков будет результат, но нас интересует, какова вероятность нашего выигрыша: если 1000 человек купят билет, скольким из них повезет? Подобные вопросы приводят нас к мысли, что нам нужно рассматривать события в контексте не одного, а нескольких испытаний. Таким образом, мы приходим к понятию вероятности события."
   ]
  },
  {
   "cell_type": "markdown",
   "metadata": {
    "id": "njSGJgZ4OYIx"
   },
   "source": [
    "### **Вероятности**\n",
    "При наличии последовательности испытаний мы можем оценить, насколько вероятно, что интересующее нас событие произойдет в следующем испытании, просто взглянув на долю испытаний, в которых произошло это событие. Например, давайте оценим вероятность того, что честная монета выпадет орлом как минимум 20 раз за 30 подбрасываний, проведя 1000 испытаний:"
   ]
  },
  {
   "cell_type": "code",
   "execution_count": null,
   "metadata": {
    "colab": {
     "base_uri": "https://localhost:8080/"
    },
    "id": "C-wKsivfOKRQ",
    "outputId": "31ee14b2-a1f0-42aa-c8d0-e5a4eb993a7c"
   },
   "outputs": [
    {
     "name": "stdout",
     "output_type": "stream",
     "text": [
      "0.052\n"
     ]
    }
   ],
   "source": [
    "def flip_coin_30_times():\n",
    "    return random.choices(['H', 'T'], k=30)\n",
    "\n",
    "def at_least_20_heads(outcome):\n",
    "    return sum([flip == 'H' for flip in outcome]) >= 20\n",
    "\n",
    "NUMBER_OF_TRIALS = 1000\n",
    "occurrences = 0\n",
    "for i in range(NUMBER_OF_TRIALS):\n",
    "    if at_least_20_heads(flip_coin_30_times()):\n",
    "        occurrences += 1\n",
    "\n",
    "print(occurrences / NUMBER_OF_TRIALS)"
   ]
  },
  {
   "cell_type": "markdown",
   "metadata": {
    "id": "QpYK2Ox_Ower"
   },
   "source": [
    "Вероятность составляет примерно 1 к 20. Не очень много! Однако, может ли быть так, что эта доля сильно зависит от результатов наших испытаний? Если это может быть как 1 к 20, так и 15 к 20, то наша оценка не очень полезна. Лучший способ проверить это - повторить всю процедуру несколько раз:"
   ]
  },
  {
   "cell_type": "code",
   "execution_count": null,
   "metadata": {
    "colab": {
     "base_uri": "https://localhost:8080/"
    },
    "id": "_aZP4AtMOzUH",
    "outputId": "76832199-045e-4af1-cdb8-d6384798b6eb"
   },
   "outputs": [
    {
     "name": "stdout",
     "output_type": "stream",
     "text": [
      "0.045 0.052 0.055 0.053 0.036 0.046 0.043 0.049 0.055 0.049 "
     ]
    }
   ],
   "source": [
    "NUMBER_OF_TRIALS = 1000\n",
    "for i in range(10):\n",
    "    occurrences = 0\n",
    "    for j in range(NUMBER_OF_TRIALS):\n",
    "        if at_least_20_heads(flip_coin_30_times()):\n",
    "            occurrences += 1\n",
    "    print(occurrences / NUMBER_OF_TRIALS, end=' ')"
   ]
  },
  {
   "cell_type": "markdown",
   "metadata": {
    "id": "R7IdBWugO5L_"
   },
   "source": [
    "Результаты действительно различаются, но все значения довольно близки друг к другу. Давайте попробуем увеличить количество испытаний в сто раз."
   ]
  },
  {
   "cell_type": "code",
   "execution_count": null,
   "metadata": {
    "colab": {
     "base_uri": "https://localhost:8080/"
    },
    "id": "r_0kDARBO5jG",
    "outputId": "54d650a3-0c48-4444-fb04-682321b8916d"
   },
   "outputs": [
    {
     "name": "stdout",
     "output_type": "stream",
     "text": [
      "0.0495 0.04982 0.05005 0.05035 0.04915 0.04965 0.04892 0.04949 0.0499 0.0486 "
     ]
    }
   ],
   "source": [
    "# imagine doing it yourself and not in python\n",
    "NUMBER_OF_TRIALS = 100000\n",
    "for i in range(10):\n",
    "    occurrences = 0\n",
    "    for j in range(NUMBER_OF_TRIALS):\n",
    "        if at_least_20_heads(flip_coin_30_times()):\n",
    "            occurrences += 1\n",
    "    print(occurrences / NUMBER_OF_TRIALS, end=' ')"
   ]
  },
  {
   "cell_type": "markdown",
   "metadata": {
    "id": "_007tAsFPBKJ"
   },
   "source": [
    "Как мы видим, чем больше чисел мы генерируем, тем ближе дроби расположены друг к другу.\n",
    "\n",
    "\n",
    "\n",
    "> Это фундаментальное свойство случайных экспериментов называется законом больших чисел Бореля. Этот закон гласит, что с увеличением числа испытаний доля испытаний, в которых происходит данное событие $A$, становится одинаковой независимо от результатов испытаний.\n",
    "\n",
    "Число, к которому сходятся все дроби, называется вероятностью события $A$ и обозначается как $\\mathrm{P}(A)$. В нашем случае вероятность события \"монета выпадет орлом не менее 20 раз за 30 подбрасываний\" близка к 0,05."
   ]
  },
  {
   "cell_type": "markdown",
   "metadata": {
    "id": "PjtAx6H9Rg0P"
   },
   "source": [
    "### **Подробнее о вероятности**\n",
    "\n",
    "Поскольку вероятность - это \"доля\" испытаний, в которых происходит событие, она обязательно находится в диапазоне от 0 до 1. Если вероятность близка к 1, это означает, что событие происходит почти во всех испытаниях, поэтому мы можем ожидать, что оно произойдет и в следующем испытании. И наоборот, если вероятность какого-либо события близка к 0, то мы ожидаем, что оно не произойдет при следующем испытании.\n",
    "\n",
    "Большое преимущество вероятностей заключается в том, что они позволяют нам оценивать неопределенность событий не только качественно, но и количественно. Если известно, что вероятность выпадения орла равна 0,5, это означает, что если вы подбросите монету несколько раз, примерно половина исходов выпадет орлом. Чем больше подбрасываний мы сделаем, тем меньше вероятность выпадения \"орла\" будет в два раза меньше.\n",
    "\n",
    "Закон больших чисел Бореля основан на очень простом способе оценки вероятности любого события, который может быть описан следующим кодом:"
   ]
  },
  {
   "cell_type": "code",
   "execution_count": null,
   "metadata": {
    "id": "u6Kmeg06PcBH"
   },
   "outputs": [],
   "source": [
    "def probability(experiment, event, number_of_trials):\n",
    "    occurrences = 0\n",
    "    for i in range(number_of_trials):\n",
    "        if event(experiment()):\n",
    "            occurrences += 1\n",
    "    return occurrences / number_of_trials"
   ]
  },
  {
   "cell_type": "markdown",
   "metadata": {
    "id": "o3J5Jxe5EytJ"
   },
   "source": [
    "Чем больше `number_of_trials`, тем точнее оценка. Этот метод не позволяет точно определить вероятности и часто требует большого количества вычислений или реальных данных. Тем не менее, он применим в тех случаях, когда трудно или невозможно оценить вероятность каким-либо другим способом.\n",
    "\n",
    "Для проведения собственных экспериментов теперь вы можете использовать методы `choice`, `choices` и `randrange` из модуля `random`. Подробнее в [документации](https://docs.python.org/3/library/random.html)."
   ]
  },
  {
   "cell_type": "markdown",
   "metadata": {
    "id": "25om5SRVa50E"
   },
   "source": [
    "# **Случайные величины**"
   ]
  },
  {
   "cell_type": "markdown",
   "metadata": {
    "id": "zBvKkiEDKlJe"
   },
   "source": [
    "Если событие - это функция, которая принимает результат в качестве входных данных и выдает логическое значение, то случайная величина - это функция, которая принимает результат в качестве входных данных и выдает число. Например, в экспериментальной ситуации, когда вы подбрасываете монету до тех пор, пока не выпадет два орла, вы можете подсчитать, сколько раз монета была подброшена и сколько выпало решек:"
   ]
  },
  {
   "cell_type": "code",
   "execution_count": null,
   "metadata": {
    "colab": {
     "base_uri": "https://localhost:8080/"
    },
    "id": "HxrI1Gw4FOjP",
    "outputId": "1c1ab73f-b34d-410b-cd28-d90f6d93c157"
   },
   "outputs": [
    {
     "name": "stdout",
     "output_type": "stream",
     "text": [
      "Outcome: ['H', 'T', 'H']\n",
      "Number of flips: 3\n",
      "Number of tails: 1\n"
     ]
    }
   ],
   "source": [
    "import random\n",
    "\n",
    "def coin_flip():\n",
    "    return random.choice(['H', 'T'])\n",
    "\n",
    "def flip_until_second_head():\n",
    "    total_heads = 0\n",
    "    outcome = []\n",
    "    while total_heads < 2:\n",
    "        outcome.append(coin_flip())\n",
    "        if outcome[-1] == 'H':\n",
    "            total_heads += 1\n",
    "    return outcome\n",
    "\n",
    "def number_of_flips(outcome):\n",
    "    return len(outcome)\n",
    "\n",
    "def number_of_tails(outcome):\n",
    "    return sum(flip == 'T' for flip in outcome)\n",
    "\n",
    "outcome = flip_until_second_head()\n",
    "\n",
    "print('Outcome:', outcome)\n",
    "print('Number of flips:', number_of_flips(outcome))\n",
    "print('Number of tails:', number_of_tails(outcome))"
   ]
  },
  {
   "cell_type": "markdown",
   "metadata": {
    "id": "OLo7uklfLdZE"
   },
   "source": [
    "Используя случайные величины, определенные для того же эксперимента, вы можете создавать новые случайные величины. Например, чтобы рассчитать количество головок, вы можете просто вычесть число хвостов из числа сальто.\n",
    "\n",
    "Как и в случае с событиями, полезно изучать случайные величины в контексте не одного, а многих испытаний. Значение случайной величины в одном испытании называется реализацией этой переменной. Давайте сгенерируем 30 реализаций переменной number_of_flips:"
   ]
  },
  {
   "cell_type": "code",
   "execution_count": null,
   "metadata": {
    "colab": {
     "base_uri": "https://localhost:8080/"
    },
    "id": "nrQvGrZULi1q",
    "outputId": "e3c0e816-1668-4be9-a8d3-502a74877191"
   },
   "outputs": [
    {
     "name": "stdout",
     "output_type": "stream",
     "text": [
      "2 4 4 3 3 2 4 3 2 3 2 7 5 2 2 5 3 2 3 4 3 5 4 9 4 2 3 2 3 6 "
     ]
    }
   ],
   "source": [
    "NUMBER_OF_TRIALS = 30\n",
    "\n",
    "for i in range(NUMBER_OF_TRIALS):\n",
    "    print(number_of_flips(flip_until_second_head()), end=' ')"
   ]
  },
  {
   "cell_type": "markdown",
   "metadata": {
    "id": "Ywu-6If2Ljp2"
   },
   "source": [
    "Как вы анализируете такое множество цифр? Для события вы вычисляете долю исходов, при которых оно произошло. Этого было достаточно, поскольку событие может иметь только два \"значения\": оно произошло или не произошло. Случайная величина может принимать множество различных значений, поэтому представляется разумным вычислять такие доли для каждого значения. Это понимание подводит нас к понятию дискретной случайной величины."
   ]
  },
  {
   "cell_type": "markdown",
   "metadata": {
    "id": "slnRULNmLr0P"
   },
   "source": [
    "### **Дискретные случайные величины**\n",
    "\n",
    "Случайная величина называется дискретной, если каждое из ее значений имеет положительную вероятность. Дискретную переменную можно представить в виде таблицы, подобной этой:\n",
    "\n",
    "Значение    | $x_1$| $x_2$|...\n",
    "------------|------|------|---\n",
    "Вероятность | $p_1$| $p_2$|...\n",
    "\n",
    "Точные значения функции вероятности не могут быть определены на основе конечных данных. Однако мы можем оценить вероятности, подсчитав уникальные значения и их доли. Эта оценка известна как эмпирическая функция вероятности. В Python это обычно делается с помощью функции `numpy.unique(a, return_counts=True)`, где `a` — список реализаций. Эта функция генерирует два массива `numpy`: один содержит уникальные значения, а другой — их количество. Разделив количество значения на их общее количество, мы получим соответствующие оценки. Давайте попробуем оценить вероятности для `number_of_flips`, используя 10 000 попыток:"
   ]
  },
  {
   "cell_type": "code",
   "execution_count": null,
   "metadata": {
    "colab": {
     "base_uri": "https://localhost:8080/"
    },
    "id": "DUlfpY9cLmey",
    "outputId": "c8cb6846-22e4-4df6-aa5f-01bcf50a1a44"
   },
   "outputs": [
    {
     "name": "stdout",
     "output_type": "stream",
     "text": [
      "2: 0.2579\n",
      "3: 0.2406\n",
      "4: 0.1822\n",
      "5: 0.1252\n",
      "6: 0.0844\n",
      "7: 0.0452\n",
      "8: 0.0272\n",
      "9: 0.0172\n",
      "10: 0.0103\n",
      "11: 0.0046\n",
      "12: 0.0027\n",
      "13: 0.0014\n",
      "14: 0.0008\n",
      "15: 0.0002\n",
      "16: 0.0001\n"
     ]
    }
   ],
   "source": [
    "import numpy as np\n",
    "\n",
    "NUMBER_OF_TRIALS = 10000\n",
    "realizations = []\n",
    "for i in range(NUMBER_OF_TRIALS):\n",
    "    realizations.append(number_of_flips(flip_until_second_head()))\n",
    "\n",
    "unique_values, counts = np.unique(realizations, return_counts=True)\n",
    "fractions = counts / counts.sum()\n",
    "for value, fraction in zip(unique_values, fractions):\n",
    "    print(f'{value}: {fraction}')"
   ]
  },
  {
   "cell_type": "markdown",
   "metadata": {
    "id": "6lXG2j_fUR33"
   },
   "source": [
    "При большем количестве испытаний вычисленные доли приближаются к вероятностям, и наша эмпирическая функция вероятности становится более похожей на истинную функцию вероятности.\n",
    "\n",
    "> Если вероятность значения пренебрежимо мала, оно может никогда не появиться даже в большом количестве испытаний. Это означает, что вы не можете определить, какие значения случайная величина принимает или не принимает из конечного набора испытаний.\n",
    "\n"
   ]
  },
  {
   "cell_type": "markdown",
   "metadata": {
    "id": "aSK4CpnzUgEz"
   },
   "source": [
    "### **Визуализация случайных величин**\n",
    "\n",
    "Эмпирическая функция вероятности предоставляет информацию о исходах в компактной форме. В приведенном выше примере вместо 10000 попыток мы можем сохранить всего 16 пар чисел и использовать их для оценки вероятностей сложных событий, связанных с поведением случайной величины. Для этого нам нужно только выбрать значения случайной величины, при которых происходит событие, а затем просуммировать соответствующие дроби. Например, давайте оценим вероятность того, что `number_of_flips` будет четным:"
   ]
  },
  {
   "cell_type": "code",
   "execution_count": null,
   "metadata": {
    "colab": {
     "base_uri": "https://localhost:8080/"
    },
    "id": "as8YP13nUZlA",
    "outputId": "b5ea1bea-0249-47e9-8c41-c738ec7ec4f6"
   },
   "outputs": [
    {
     "name": "stdout",
     "output_type": "stream",
     "text": [
      "0.5656000000000001\n"
     ]
    }
   ],
   "source": [
    "def is_even(value):\n",
    "    return value % 2 == 0\n",
    "\n",
    "estimate = 0\n",
    "for value, fraction in zip(unique_values, fractions):\n",
    "    if is_even(value):\n",
    "        estimate += fraction\n",
    "\n",
    "print(estimate)"
   ]
  },
  {
   "cell_type": "markdown",
   "metadata": {
    "id": "v6dRr2aYayRc"
   },
   "source": [
    "Гистограмма может помочь лучше понять поведение случайной величины:"
   ]
  },
  {
   "cell_type": "code",
   "execution_count": null,
   "metadata": {
    "colab": {
     "base_uri": "https://localhost:8080/",
     "height": 368
    },
    "id": "2xF77XRmayzC",
    "outputId": "48bb3d4e-8279-400b-e6ac-c533dc28ba23"
   },
   "outputs": [
    {
     "data": {
      "image/png": "[encoded data removed]",
      "text/plain": [
       "<Figure size 1000x400 with 1 Axes>"
      ]
     },
     "metadata": {},
     "output_type": "display_data"
    }
   ],
   "source": [
    "import matplotlib.pyplot as plt\n",
    "\n",
    "plt.figure(figsize=(10, 4))\n",
    "plt.bar(unique_values, fractions)\n",
    "plt.show()"
   ]
  },
  {
   "cell_type": "markdown",
   "metadata": {
    "id": "60kKqs2ua29O"
   },
   "source": [
    "Понятно, что наиболее вероятные значения находятся в диапазоне от 2 до 6, после чего вероятности начинают быстро уменьшаться. Мы почти не видим столбцы в районе 16 из-за их значительно меньших вероятностей!\n",
    "\n",
    "При всей полезности bar chart, у нее есть некоторые ограничения. Допустим, мы проводим эксперимент. В любой заданный день сайт A посещают `random.randrange(1000, 10001)` пользователей, в то время как сайт B посещают `random.randrange(3000, 12001)` пользователей. Нас интересует разница между количеством пользователей на втором и первом сайте. Давайте проведем 10000 испытаний и построим соответствующую гистограмму:"
   ]
  },
  {
   "cell_type": "code",
   "execution_count": null,
   "metadata": {
    "colab": {
     "base_uri": "https://localhost:8080/",
     "height": 368
    },
    "id": "oeVQdYnWayjB",
    "outputId": "f21abb4e-8434-48f3-e9ae-55abbaec6174"
   },
   "outputs": [
    {
     "data": {
      "image/png": "[encoded data removed]",
      "text/plain": [
       "<Figure size 1000x400 with 1 Axes>"
      ]
     },
     "metadata": {},
     "output_type": "display_data"
    }
   ],
   "source": [
    "def visits():\n",
    "    return random.randrange(1000, 10001), random.randrange(3000, 12001)\n",
    "\n",
    "def difference(outcome):\n",
    "    first, second = outcome\n",
    "    return second - first\n",
    "\n",
    "NUMBER_OF_TRIALS = 10000\n",
    "realizations = []\n",
    "for i in range(NUMBER_OF_TRIALS):\n",
    "    realizations.append(difference(visits()))\n",
    "\n",
    "unique_values, counts = np.unique(realizations, return_counts=True)\n",
    "fractions = counts / counts.sum()\n",
    "\n",
    "plt.figure(figsize=(10, 4))\n",
    "plt.bar(unique_values, fractions)\n",
    "plt.show()"
   ]
  },
  {
   "cell_type": "markdown",
   "metadata": {
    "id": "BJTG52oWd7wO"
   },
   "source": [
    "Что-то результат не очень информативный. 😢\n",
    "\n",
    "> Когда число возможных значений велико, а их вероятности малы, почти все реализации уникальны и происходят только один раз. Вот почему многие столбцы имеют значение `1 / NUMBER_OF_TRIALS`, и bar chart в итоге выглядит загроможденной.\n",
    "\n",
    "Дальше мы научимся обходить такие неприятные ситуации."
   ]
  },
  {
   "cell_type": "markdown",
   "metadata": {
    "id": "FjEHWPO7fZSP"
   },
   "source": [
    "### **Гистограмма**\n",
    "\n",
    "Для описания мультимножества чисел, в которых все или почти все значения различны, удобно использовать гистограмму. Для этого вам необходимо:\n",
    "\n",
    "1.   Разделить интервал, содержащий все значения, на несколько интервалов, которые называются bins (ячейка).\n",
    "2.   Рассчитайте долю значения в каждой ячейке.\n",
    "3.   Для каждой ячейки нарисуйте столбик, взяв эту ячейку за основу, а высоту, равную доле значений, деленной на ширину ячейки.\n",
    "\n",
    "Деление в третьем элементе необходимо, чтобы площадь столбца была приблизительно равна вероятности того, что случайная величина примет значение из ячейки. Поскольку общая вероятность равна 1, общая площадь гистограммы также равна 1.\n",
    "\n",
    "В Python гистограммы можно построить очень быстро, используя метод `plt.hist(realizations, bins=k, density=True)`, где `bins` - это количество ячеек, а значение `density=True` гарантирует, что площадь каждого столбца равна доле реализаций в соответствующей ячейке. Давайте нарисуем гистограмму для 10 000 реализаций `difference`, используя 100 ячеек:"
   ]
  },
  {
   "cell_type": "code",
   "execution_count": null,
   "metadata": {
    "colab": {
     "base_uri": "https://localhost:8080/",
     "height": 368
    },
    "id": "WPgj7xuGfniD",
    "outputId": "632fee12-7f2a-4c80-de66-c67f73eac278"
   },
   "outputs": [
    {
     "data": {
      "image/png": "[encoded data removed]",
      "text/plain": [
       "<Figure size 1000x400 with 1 Axes>"
      ]
     },
     "metadata": {},
     "output_type": "display_data"
    }
   ],
   "source": [
    "plt.figure(figsize=(10, 4))\n",
    "plt.hist(realizations, bins=100, density=True)\n",
    "plt.show()"
   ]
  },
  {
   "cell_type": "markdown",
   "metadata": {
    "id": "hzwZFagSrK99"
   },
   "source": [
    "Это выглядит намного лучше, чем график из предыдущего раздела! Используя гистограмму, вы можете оценить вероятность того, что случайная величина попадет в определенный интервал. Для этого вам нужно оценить площадь гистограммы, ограниченную этим интервалом. Чем выше гистограмма, тем больше вероятность попадания в интервал. В нашем примере вероятность того, что `difference` попадет в интервал $[7500,10000]$ намного меньше, чем вероятность попадания в интервал $[0,2500]$, несмотря на их одинаковую ширину.\n",
    "\n",
    "Несколько столбцов гистограммы, приведенной выше, сильно отличаются от соседних. Возможной причиной этого может быть то, что количество реализаций недостаточно велико по сравнению с количеством ячеек. Давайте увеличим количество реализаций до 1 000 000!"
   ]
  },
  {
   "cell_type": "code",
   "execution_count": null,
   "metadata": {
    "colab": {
     "base_uri": "https://localhost:8080/",
     "height": 368
    },
    "id": "8WDdgkK3rVX-",
    "outputId": "185b5921-8a33-4698-8c65-d7c4dbf95651"
   },
   "outputs": [
    {
     "data": {
      "image/png": "[encoded data removed]",
      "text/plain": [
       "<Figure size 1000x400 with 1 Axes>"
      ]
     },
     "metadata": {},
     "output_type": "display_data"
    }
   ],
   "source": [
    "NUMBER_OF_TRIALS = 1_000_000\n",
    "realizations = []\n",
    "for i in range(NUMBER_OF_TRIALS):\n",
    "    realizations.append(difference(visits()))\n",
    "\n",
    "plt.figure(figsize=(10, 4))\n",
    "plt.hist(realizations, bins=100, density=True)\n",
    "plt.show()"
   ]
  },
  {
   "cell_type": "markdown",
   "metadata": {
    "id": "9gMeTBLUsCAo"
   },
   "source": [
    "Как мы видим, гистограмма стала более плавной, но она по-прежнему состоит из небольших шагов. Можем ли мы сделать ширину ячеек очень маленькой, а количество попыток - очень большим, чтобы шаги стали неразличимыми? Для случайной величины `difference` мы не можем этого сделать: эта переменная принимает целые значения, поэтому, как только ширина ячеек станет меньше 1, появятся ячейки без реализаций, и мы снова вернемся к плохому графику.\n",
    "\n",
    "Однако существуют случайные величины, для которых шаги можно сделать неразличимыми, уменьшив ширину ячеек до нуля."
   ]
  },
  {
   "cell_type": "markdown",
   "metadata": {
    "id": "2LQYdK1f0r34"
   },
   "source": [
    "### **Непрерывные случайные величины**\n",
    "\n",
    "Случайная величина называется непрерывной, если каждое из ее значений принимается с нулевой вероятностью, но внутри сколь угодно малой окрестности этого значения есть значения с положительной вероятностью. Чем меньше окрестность, тем меньше вероятность. Непрерывные случайные величины - это очень интересная математическая модель, но они довольно сложны, поэтому мы не будем давать им формального определения. Как правило, эта модель используется, если даже в очень большом наборе реализаций все или почти все значения различны.\n",
    "\n",
    "В качестве примера рассмотрим эксперимент, в котором мы генерируем число от 0 до 1 следующим образом: мы генерируем 15 цифр от 0 до 9 и интерпретируем их как десятичные разряды нашего числа:"
   ]
  },
  {
   "cell_type": "code",
   "execution_count": null,
   "metadata": {
    "colab": {
     "base_uri": "https://localhost:8080/"
    },
    "id": "M12lY4P706Dr",
    "outputId": "1d9eaaf8-ddb0-43ad-bdf0-dbd0368f7f51"
   },
   "outputs": [
    {
     "name": "stdout",
     "output_type": "stream",
     "text": [
      "0.027472206983005\n"
     ]
    }
   ],
   "source": [
    "def number_from_0_to_1():\n",
    "    digits = random.choices('0123456789', k=15)\n",
    "    result = '0.' + ''.join(digits)\n",
    "    return float(result)\n",
    "\n",
    "print(number_from_0_to_1())"
   ]
  },
  {
   "cell_type": "markdown",
   "metadata": {
    "id": "4m4vIZaJ7Mka"
   },
   "source": [
    "Хотя число возможных значений конечно и вероятность каждого значения положительна, эти вероятности настолько малы, что даже среди 1 000 000 реализаций все значения почти наверняка будут разными:"
   ]
  },
  {
   "cell_type": "code",
   "execution_count": null,
   "metadata": {
    "colab": {
     "base_uri": "https://localhost:8080/"
    },
    "id": "xTB5MPIR7PcI",
    "outputId": "ee4ae41c-fc64-4b6a-910f-7d75e11cb7d3"
   },
   "outputs": [
    {
     "name": "stdout",
     "output_type": "stream",
     "text": [
      "1000000\n"
     ]
    }
   ],
   "source": [
    "realizations = [number_from_0_to_1() for i in range(1_000_000)]\n",
    "\n",
    "unique_values = np.unique(realizations)\n",
    "print(len(unique_values))"
   ]
  },
  {
   "cell_type": "markdown",
   "metadata": {
    "id": "a4JWlRHu7Rof"
   },
   "source": [
    "Давайте нарисуем гистограмму для наших 1 000 000 реализаций, используя ячейки размера 100:"
   ]
  },
  {
   "cell_type": "code",
   "execution_count": null,
   "metadata": {
    "colab": {
     "base_uri": "https://localhost:8080/",
     "height": 368
    },
    "id": "a1Vk4SDd7Wx8",
    "outputId": "19284d58-9586-42a7-a33f-6e2fef744c82"
   },
   "outputs": [
    {
     "data": {
      "image/png": "[encoded data removed]",
      "text/plain": [
       "<Figure size 1000x400 with 1 Axes>"
      ]
     },
     "metadata": {},
     "output_type": "display_data"
    }
   ],
   "source": [
    "plt.figure(figsize=(10, 4))\n",
    "plt.hist(realizations, bins=100, density=True)\n",
    "plt.show()"
   ]
  },
  {
   "cell_type": "markdown",
   "metadata": {
    "id": "8PArsQFF7guu"
   },
   "source": [
    "Высота гистограммы примерно одинакова от 0 до 1. Это означает, что вероятность попадания в определенный интервал не зависит от того, где он расположен, а только от его ширины.\n",
    "\n",
    "> Чтобы сделать `number_from_0_to_1` \"истинной\" непрерывной случайной величиной, нам пришлось бы генерировать бесконечное количество цифр вместо 15. Конечно, вы не можете сгенерировать или сохранить даже одно такое число, поэтому в реальной жизни мы не используем настоящие непрерывные случайные величины. Однако часто удобнее анализировать непрерывные случайные величины, а затем рассматривать числа с плавающей запятой, которые мы фактически используем, как достаточно близкие приближения.\n",
    "\n",
    "Если вы нарисуете гистограмму для бесконечного числа реализаций непрерывной случайной величины и начнете уменьшать ширину интервалов, то гистограмма будет сходиться к фигуре, ограниченной некоторой кривой. Функция, которую отображает эта кривая, называется плотностью случайной величины. Поскольку площадь гистограммы всегда равна 1, площадь под плотностью также равна 1.\n",
    "\n",
    "> Как и функция вероятности, плотность однозначно описывает непрерывную случайную величину — вы не можете отличить две случайные величины с одинаковой плотностью, анализируя только их реализации.\n",
    "\n",
    "Например, если бы мы выполнили эту процедуру для \"истинной\" случайной величины, полученной из `number_from_0_to_1`, мы бы получили следующую предельную гистограмму:"
   ]
  },
  {
   "cell_type": "code",
   "execution_count": null,
   "metadata": {
    "colab": {
     "base_uri": "https://localhost:8080/",
     "height": 374
    },
    "id": "52lomRtntPps",
    "outputId": "44c22b4d-6725-4980-c097-d95c9359ba56"
   },
   "outputs": [
    {
     "data": {
      "image/png": "[encoded data removed]",
      "text/plain": [
       "<Figure size 1000x400 with 1 Axes>"
      ]
     },
     "metadata": {},
     "output_type": "display_data"
    }
   ],
   "source": [
    "from matplotlib.patches import Rectangle\n",
    "\n",
    "fig, ax = plt.subplots(figsize=(10, 4))\n",
    "ax.add_patch(Rectangle((0, 0), 1, 1))\n",
    "plt.show()"
   ]
  },
  {
   "cell_type": "markdown",
   "metadata": {
    "id": "N51lJJIdCUjJ"
   },
   "source": [
    "### **Другой пример: экспоненциальная случайная величина**\n",
    "\n",
    "Предположим, мы выбрали $n$ случайных точек на отрезке длиной $L$. Мы можем представить это как автомобили, припаркованные вдоль улицы длиной $L$ метров, или как время прибытия $n$ посетителей в течение $L$ минут. Если $n$ достаточно велико, то расстояния между соседними точками отрезка будут случайными величинами, которые распределяются почти как **экспоненциально распределенная** или просто **экспоненциальная** случайная величина с параметром $λ=n/L$. Параметр $λ$ должен быть положительным и может быть интерпретирован как частота: сколько автомобилей припарковано в среднем на одном метре улицы, сколько посетителей приходит в среднем за одну минуту и т.д..\n",
    "\n",
    "Экспоненциальные случайные величины легко генерируются с помощью метода `random.expovariate(lambd)`:"
   ]
  },
  {
   "cell_type": "code",
   "execution_count": null,
   "metadata": {
    "colab": {
     "base_uri": "https://localhost:8080/"
    },
    "id": "rwz0nRXU7vpL",
    "outputId": "e20f2acb-8fd5-425a-e203-4e07e1ddb55a"
   },
   "outputs": [
    {
     "name": "stdout",
     "output_type": "stream",
     "text": [
      "1.4717191657216533\n"
     ]
    }
   ],
   "source": [
    "print(random.expovariate(0.1))"
   ]
  },
  {
   "cell_type": "markdown",
   "metadata": {
    "id": "DaVDyH2MEIBO"
   },
   "source": [
    "Плотность экспоненциально распределенной переменной с параметром $λ$, как ни странно, экспоненциальна: она равна $λe^{- λx}$ при положительном $x$ и равна нулю в противном случае.\n",
    "\n",
    "Давайте убедимся, что расстояние между равномерно распределенными точками действительно выглядит как экспоненциальная случайная величина. Для этого мы сгенерируем 10 000 точек на интервале от 0 до 10 000, построим гистограмму расстояний между соседними точками и сравним ее с плотностью $e^{-x}$ экспоненциальной случайной величины с параметром $λ=1$."
   ]
  },
  {
   "cell_type": "code",
   "execution_count": null,
   "metadata": {
    "colab": {
     "base_uri": "https://localhost:8080/",
     "height": 368
    },
    "id": "tBuvmxh6VooQ",
    "outputId": "dfc5831c-90d6-427d-9d1b-3abff87b3063"
   },
   "outputs": [
    {
     "data": {
      "image/png": "[encoded data removed]",
      "text/plain": [
       "<Figure size 1000x400 with 1 Axes>"
      ]
     },
     "metadata": {},
     "output_type": "display_data"
    }
   ],
   "source": [
    "points = [random.uniform(0, 100000) for i in range(100000)]\n",
    "points.sort()\n",
    "\n",
    "lengths = []\n",
    "for curr, nxt in zip(points, points[1:]):\n",
    "    lengths.append(nxt - curr)\n",
    "\n",
    "plt.figure(figsize=(10, 4))\n",
    "plt.hist(lengths, bins=100, density=True)\n",
    "\n",
    "x = np.linspace(0, 12, 1000)\n",
    "plt.plot(x, np.exp(-x), linewidth=2)\n",
    "\n",
    "plt.show()"
   ]
  },
  {
   "cell_type": "markdown",
   "metadata": {
    "id": "HM47cCxha2aW"
   },
   "source": [
    "# **Математическое ожидание**"
   ]
  },
  {
   "cell_type": "markdown",
   "metadata": {
    "id": "rgYCPZLRZpXm"
   },
   "source": [
    "Предположим, что мы владеем рестораном, и нас интересует доход, который принесут нам следующие 100 клиентов. Понятно, что мы не можем точно определить это значение, но можем легко его оценить:\n",
    "\n",
    "1. Посмотрите на прибыль, которую принес нам каждый из предыдущих клиентов.\n",
    "2. Вычисляем среднюю прибыль: суммируем прибыль предыдущих клиентов и делим на их количество.\n",
    "3. Оцениваем будущую прибыль от 100 клиентов, умножая рассчитанную среднюю прибыль на 100.\n",
    "\n",
    "В Python это может выглядеть примерно так:"
   ]
  },
  {
   "cell_type": "code",
   "execution_count": null,
   "metadata": {
    "colab": {
     "base_uri": "https://localhost:8080/"
    },
    "id": "7cxQuPb0Zgl2",
    "outputId": "61c9dee4-ae9a-43c5-d3e8-160f577e4ed9"
   },
   "outputs": [
    {
     "name": "stdout",
     "output_type": "stream",
     "text": [
      "Future profit: ≈2610.0\n"
     ]
    }
   ],
   "source": [
    "past_customers_profits = [10, 35, 12, 14, 54, 32, 45, 11, 41, 7]\n",
    "average_profit = sum(past_customers_profits) / len(past_customers_profits)\n",
    "future_customers = 100\n",
    "print(f'Future profit: ≈{future_customers * average_profit}')"
   ]
  },
  {
   "cell_type": "markdown",
   "metadata": {
    "id": "-Uty3RANaMQW"
   },
   "source": [
    "В качестве альтернативы вы можете использовать метод `numpy.mean` для расчета средней прибыли."
   ]
  },
  {
   "cell_type": "code",
   "execution_count": null,
   "metadata": {
    "colab": {
     "base_uri": "https://localhost:8080/"
    },
    "id": "bDSTd6a-aNjj",
    "outputId": "13838ef7-504e-4cfd-e1de-340064f59392"
   },
   "outputs": [
    {
     "name": "stdout",
     "output_type": "stream",
     "text": [
      "26.1\n"
     ]
    }
   ],
   "source": [
    "import numpy\n",
    "\n",
    "print(numpy.mean(past_customers_profits))"
   ]
  },
  {
   "cell_type": "markdown",
   "metadata": {
    "id": "kTf37HTcaZeh"
   },
   "source": [
    "### **Закон больших чисел**\n",
    "\n",
    "Средняя прибыль, которую мы рассчитали на шаге 2, зависит от конкретной прибыли, которую принес нам каждый предыдущий клиент: например, если мы владеем не одним рестораном, а сетью из 10 ресторанов, их средняя прибыль будет отличаться, поскольку у них разные клиенты. Давайте посмотрим, как это выглядит в следующем примере. Предположим, что доход от случайного клиента в каждом из 10 ресторанов имеет экспоненциальное распределение с параметром $λ=1$, и давайте посмотрим, какой будет их средний доход, если рестораны рассчитают ее на основе данных о последних 10, 100 или 1000 предыдущих клиентах:"
   ]
  },
  {
   "cell_type": "code",
   "execution_count": null,
   "metadata": {
    "colab": {
     "base_uri": "https://localhost:8080/"
    },
    "id": "eRLfTD2waeTn",
    "outputId": "5234277a-6a32-47b9-8828-9b33ce592a2c"
   },
   "outputs": [
    {
     "name": "stdout",
     "output_type": "stream",
     "text": [
      "Number of past customers: 10\n",
      "1.343 0.975 1.0364 1.3617 1.6188 0.7481 1.0124 1.2282 1.1037 0.9991 \n",
      "\n",
      "Number of past customers: 100\n",
      "1.0098 1.0667 1.1248 0.911 1.1856 1.1208 1.2081 1.0362 0.9515 0.9604 \n",
      "\n",
      "Number of past customers: 1000\n",
      "0.9925 0.9941 1.0056 0.9841 1.0188 0.9537 0.9967 0.993 1.0082 0.9968 \n",
      "\n"
     ]
    }
   ],
   "source": [
    "from random import expovariate\n",
    "\n",
    "def past_customers_profits(number_of_past_customers):\n",
    "    return [expovariate(1) for i in range(number_of_past_customers)]\n",
    "\n",
    "NUMBER_OF_PAST_CUSTOMERS = [10, 100, 1000]\n",
    "NUMBER_OF_RESTAURANTS = 10\n",
    "\n",
    "for num in NUMBER_OF_PAST_CUSTOMERS:\n",
    "    print(f'Number of past customers: {num}')\n",
    "    for i in range(NUMBER_OF_RESTAURANTS):\n",
    "        profits = past_customers_profits(num)\n",
    "        average_profit = sum(profits) / len(profits)\n",
    "        print(round(average_profit, 4), end=' ')\n",
    "    print('\\n')"
   ]
  },
  {
   "cell_type": "markdown",
   "metadata": {
    "id": "_0VWO4_shWkm"
   },
   "source": [
    "Как мы видим, чем больше у нас предыдущих клиентов, тем ближе средний доход друг к другу. Получается, что если мы будем привлекать все больше и больше клиентов, то средний доход будет стремиться к определенному числу. Это число не зависит от конкретного дохода с каждого клиента и называется ожидаемым доходом случайного клиента.\n",
    "\n",
    "Закон больших чисел выполняется для случайной величины $X$, если для любой бесконечной последовательности ее реализаций $x_1, x_2,...,$ среднее значение первых $k$ чисел $\\frac{1}{k}(x_1+...+x_k)$ стремится к конкретному числу при $k$, стремящимся к бесконечности. Это число называется математическим ожиданием $X$ и обозначается за $\\mathrm{E}X$.\n",
    "\n",
    "> Закон больших чисел справедлив для многих случайных величин. Например, он справедлив для экспоненциальных случайных величин и величин, которые принимают значения в пределах некоторого ограниченного интервала $[a,b]$. Однако существуют случайные величины, для которых этот закон не выполняется. Примером такой случайной величины является $1/X$, где $X$ имеет экспоненциальное распределение."
   ]
  },
  {
   "cell_type": "markdown",
   "metadata": {
    "id": "9Cu4YkvTiWmK"
   },
   "source": [
    "### **Борелевский закон больших чисел**\n",
    "\n",
    "Это частный случай Закона больших чисел. Чтобы убедиться в этом, давайте зафиксируем некоторое событие $A$ и рассмотрим случайную величину $X_A$, которая равна 1, если $A$ происходит для данного исхода, и 0 в противном случае. В данном случае $\\frac{1}{k}(x_1+...+x_k)$ – это доля исходов, в которых $A$ произошло. Поскольку $X_A$ принимает значения в пределах ограниченного интервала, выполняется закон больших чисел, и, таким образом\n",
    "\n",
    "$$\\frac{x_1+...+x_k}{k} \\to \\mathrm{E}X.$$\n",
    "\n",
    "Поскольку один и тот же предел равен $\\mathrm{P}(A)$, мы получаем, что $\\mathrm{P}(A) = \\mathrm{E}X_A$.\n",
    "\n",
    "Математическое ожидание – это удобный способ определения расположения случайной величины при работе с суммами. Однако существуют проблемы, при которых математическое ожидание дает мало информации. Предположим, мы хотим узнать, сколько зарабатывает типичный сотрудник в двух компаниях. В первой компании пусть будет 10 сотрудников с одинаковой зарплатой в \\\\$50 000 в год, а во второй компании пусть будет 10 сотрудников, один из которых зарабатывает \\\\$275 000 долларов в год, в то время как остальные 9 зарабатывают \\\\$25 000 долларов в год. Давайте подсчитаем среднюю заработную плату:"
   ]
  },
  {
   "cell_type": "code",
   "execution_count": null,
   "metadata": {
    "colab": {
     "base_uri": "https://localhost:8080/"
    },
    "id": "ETgIrMpjg-5u",
    "outputId": "95f99a0c-10b8-4f3b-8e35-27ac4f2152fd"
   },
   "outputs": [
    {
     "name": "stdout",
     "output_type": "stream",
     "text": [
      "50000.0 50000.0\n"
     ]
    }
   ],
   "source": [
    "import numpy as np\n",
    "\n",
    "first = [50000] * 10\n",
    "second = [275000] + [25000] * 9\n",
    "\n",
    "print(np.mean(first), np.mean(second))"
   ]
  },
  {
   "cell_type": "markdown",
   "metadata": {
    "id": "FJIOGaUJBmXx"
   },
   "source": [
    "# **Описание данных**"
   ]
  },
  {
   "cell_type": "markdown",
   "metadata": {
    "id": "5D7IQi3rB-Lk"
   },
   "source": [
    "### **Медиана**\n",
    "\n",
    "Медиана $\\mathrm{med}(X)$ случайной величины $X$ – это число, которое делит ее распределение на две части: левую часть, которая имеет вероятность не менее 1/2, и правую часть, которая имеет вероятность не менее 1/2. Другими словами, med(X) – это такое число, что\n",
    "$$\\mathrm{P}(X \\leq \\mathrm{med}(X)) \\geq 1/2,\\ \\mathrm{P}(X \\geq \\mathrm{med}(X)) \\geq 1/2.$$\n",
    "\n",
    "\n",
    "Тот факт, что медиана делит распределение случайной величины пополам, дает очень простой способ оценить его, используя набор реализаций этой случайной величины:\n",
    "\n",
    "1.   Отсортируйте числа в порядке возрастания.\n",
    "2.   Найдите центральный элемент полученной последовательности, если нечетное число значений, или среднее значение двух центральных элементов, если четное число значений."
   ]
  },
  {
   "cell_type": "markdown",
   "metadata": {
    "id": "FAQk6WGoTlXG"
   },
   "source": [
    "### **Медиана в Python**\n",
    "\n",
    "В Python медиана может быть рассчитана с использованием метода numpy.median. Например, для зарплат, рассмотренных выше, получены следующие значения:"
   ]
  },
  {
   "cell_type": "code",
   "execution_count": null,
   "metadata": {
    "colab": {
     "base_uri": "https://localhost:8080/"
    },
    "id": "n82kg0anB754",
    "outputId": "c2e495d6-ea3e-45ea-bfae-6399b8bc6af9"
   },
   "outputs": [
    {
     "name": "stdout",
     "output_type": "stream",
     "text": [
      "50000.0 25000.0\n"
     ]
    }
   ],
   "source": [
    "import numpy as np\n",
    "\n",
    "first = [50000] * 10\n",
    "second = [275000] + [25000] * 9\n",
    "\n",
    "print(np.median(first), np.median(second))"
   ]
  },
  {
   "cell_type": "markdown",
   "metadata": {
    "id": "hAYE6DfcTvXv"
   },
   "source": [
    "Как мы видим, медиана правильно отражает тот факт, что типичный сотрудник первой компании зарабатывает в два раза больше, чем его коллега из второй компании.\n",
    "\n",
    "> Как и в случае с ожидаемым значением, медиана также удовлетворяет аналогу закона больших чисел: чем больше реализаций, тем точнее будет оценка медианы.\n",
    "\n",
    "Медиана удобна для использования в ситуациях, когда нам нужно понять типичное поведение случайной величины. Однако в жизни часто возникают проблемы, когда нам нужно найти редкие значения случайной величины. Например, предположим, что мы хотим построить пешеходный мост над дорогой и нам нужно определить его высоту. Если мы сделаем мост слишком низким, многие транспортные средства не смогут проехать под ним и им придется объезжать его. С другой стороны, если мы сделаем его слишком высоким, то потратим много денег на строительство. Таким образом, нам нужно найти баланс между количеством транспортных средств, которым придется ехать в объезд, и стоимостью моста. Для решения таких проблем полезно рассмотреть еще один показатель распределения: квантиль."
   ]
  },
  {
   "cell_type": "markdown",
   "metadata": {
    "id": "wqwVv3ylXvUJ"
   },
   "source": [
    "### **Квантили**\n",
    "\n",
    "Квантили являются естественным обобщением медианы. Если медиана делит распределение пополам, то $α$-квантиль делит распределение на части с вероятностями $α$ и $1-α$. Более формально число $x_α$, где $α \\in (0,1)$, называется $α$-квантилем случайной величины $X$, если\n",
    "$$\\mathrm{P}(X \\leq x_α) \\geq α,\\ \\mathrm{P}(X \\geq x_α) \\geq 1-α.$$\n",
    "\n",
    "В этих обозначения медиана – это $0.5$-квантиль.\n",
    "\n",
    "В Python квантиль может быть вычислен с помощью метода `numpy.quantile`. Например, давайте оценим $0.25$-квантиль случайной величины, равномерно распределенной по $[0,1]$:"
   ]
  },
  {
   "cell_type": "code",
   "execution_count": null,
   "metadata": {
    "colab": {
     "base_uri": "https://localhost:8080/"
    },
    "id": "5LetawyiTroK",
    "outputId": "45ba4584-3f67-41f2-d8d0-6d10df596894"
   },
   "outputs": [
    {
     "data": {
      "text/plain": [
       "0.2572502530921478"
      ]
     },
     "execution_count": 3,
     "metadata": {},
     "output_type": "execute_result"
    }
   ],
   "source": [
    "import numpy as np\n",
    "rng = np.random.default_rng()\n",
    "\n",
    "# generate 100000 realizations of the uniform random variable\n",
    "sample = rng.uniform(size=100)\n",
    "\n",
    "np.quantile(sample, 0.25)"
   ]
  },
  {
   "cell_type": "markdown",
   "metadata": {
    "id": "IIzEFjQGb08c"
   },
   "source": [
    "Давайте теперь вернемся к задаче о пешеходном мосту из предыдущего раздела. Как квантили могут помочь нам в решении этой задачи? Предположим, мы подсчитали, что можем позволить себе высоту моста, превышающую 99.9% автомобилей, которые будут проезжать под ним. Другими словами, мы можем построить мост, который заставит не более 0.1% автомобилей объезжать его. Затем, чтобы определить минимальную высоту моста, мы можем собрать информацию о высоте автомобилей и найти $0.999$-квантиль."
   ]
  },
  {
   "cell_type": "code",
   "execution_count": null,
   "metadata": {
    "id": "w3BWs-CZb5uB"
   },
   "outputs": [],
   "source": []
  }
 ],
 "metadata": {
  "colab": {
   "collapsed_sections": [
    "fSg0qH0M4dwT",
    "XYo9t4j24TRv",
    "25om5SRVa50E"
   ],
   "provenance": [],
   "toc_visible": true
  },
  "kernelspec": {
   "display_name": "Python 3",
   "language": "python",
   "name": "python3"
  },
  "language_info": {
   "codemirror_mode": {
    "name": "ipython",
    "version": 3
   },
   "file_extension": ".py",
   "mimetype": "text/x-python",
   "name": "python",
   "nbconvert_exporter": "python",
   "pygments_lexer": "ipython3",
   "version": "3.8.3"
  }
 },
 "nbformat": 4,
 "nbformat_minor": 1
}
